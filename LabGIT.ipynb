{
  "nbformat": 4,
  "nbformat_minor": 0,
  "metadata": {
    "colab": {
      "provenance": [],
      "include_colab_link": true
    },
    "kernelspec": {
      "name": "python3",
      "display_name": "Python 3"
    },
    "language_info": {
      "name": "python"
    }
  },
  "cells": [
    {
      "cell_type": "markdown",
      "metadata": {
        "id": "view-in-github",
        "colab_type": "text"
      },
      "source": [
        "<a href=\"https://colab.research.google.com/github/s0lenna/AnalisisDeDatos/blob/main/LabGIT.ipynb\" target=\"_parent\"><img src=\"https://colab.research.google.com/assets/colab-badge.svg\" alt=\"Open In Colab\"/></a>"
      ]
    },
    {
      "cell_type": "code",
      "source": [
        "from google.colab import auth\n",
        "auth.authenticate_user()\n",
        "print('Authenticated')"
      ],
      "metadata": {
        "colab": {
          "base_uri": "https://localhost:8080/"
        },
        "id": "DHcsEyrOfHnb",
        "outputId": "7aeef94e-5cb6-4384-a6b5-0df1d8011b3f"
      },
      "execution_count": null,
      "outputs": [
        {
          "output_type": "stream",
          "name": "stdout",
          "text": [
            "Authenticated\n"
          ]
        }
      ]
    },
    {
      "cell_type": "code",
      "execution_count": null,
      "metadata": {
        "id": "iCaZHVExY4-R",
        "colab": {
          "base_uri": "https://localhost:8080/"
        },
        "outputId": "eb1a737d-6498-4fe2-c540-ebe506317bdb"
      },
      "outputs": [
        {
          "output_type": "stream",
          "name": "stdout",
          "text": [
            "      Gender        Age    Height      Weight family_history_with_overweight  \\\n",
            "0     Female  21.000000  1.620000   64.000000                            yes   \n",
            "1     Female  21.000000  1.520000   56.000000                            yes   \n",
            "2       Male  23.000000  1.800000   77.000000                            yes   \n",
            "3       Male  27.000000  1.800000   87.000000                             no   \n",
            "4       Male  22.000000  1.780000   89.800000                             no   \n",
            "...      ...        ...       ...         ...                            ...   \n",
            "2106  Female  20.976842  1.710730  131.408528                            yes   \n",
            "2107  Female  21.982942  1.748584  133.742943                            yes   \n",
            "2108  Female  22.524036  1.752206  133.689352                            yes   \n",
            "2109  Female  24.361936  1.739450  133.346641                            yes   \n",
            "2110  Female  23.664709  1.738836  133.472641                            yes   \n",
            "\n",
            "     FAVC  FCVC  NCP       CAEC SMOKE      CH2O  SCC       FAF       TUE  \\\n",
            "0      no   2.0  3.0  Sometimes    no  2.000000   no  0.000000  1.000000   \n",
            "1      no   3.0  3.0  Sometimes   yes  3.000000  yes  3.000000  0.000000   \n",
            "2      no   2.0  3.0  Sometimes    no  2.000000   no  2.000000  1.000000   \n",
            "3      no   3.0  3.0  Sometimes    no  2.000000   no  2.000000  0.000000   \n",
            "4      no   2.0  1.0  Sometimes    no  2.000000   no  0.000000  0.000000   \n",
            "...   ...   ...  ...        ...   ...       ...  ...       ...       ...   \n",
            "2106  yes   3.0  3.0  Sometimes    no  1.728139   no  1.676269  0.906247   \n",
            "2107  yes   3.0  3.0  Sometimes    no  2.005130   no  1.341390  0.599270   \n",
            "2108  yes   3.0  3.0  Sometimes    no  2.054193   no  1.414209  0.646288   \n",
            "2109  yes   3.0  3.0  Sometimes    no  2.852339   no  1.139107  0.586035   \n",
            "2110  yes   3.0  3.0  Sometimes    no  2.863513   no  1.026452  0.714137   \n",
            "\n",
            "            CALC                 MTRANS           NObeyesdad  \n",
            "0             no  Public_Transportation        Normal_Weight  \n",
            "1      Sometimes  Public_Transportation        Normal_Weight  \n",
            "2     Frequently  Public_Transportation        Normal_Weight  \n",
            "3     Frequently                Walking   Overweight_Level_I  \n",
            "4      Sometimes  Public_Transportation  Overweight_Level_II  \n",
            "...          ...                    ...                  ...  \n",
            "2106   Sometimes  Public_Transportation     Obesity_Type_III  \n",
            "2107   Sometimes  Public_Transportation     Obesity_Type_III  \n",
            "2108   Sometimes  Public_Transportation     Obesity_Type_III  \n",
            "2109   Sometimes  Public_Transportation     Obesity_Type_III  \n",
            "2110   Sometimes  Public_Transportation     Obesity_Type_III  \n",
            "\n",
            "[2111 rows x 17 columns]\n"
          ]
        }
      ],
      "source": [
        "#Cargar el Archivo\n",
        "import pandas as pd\n",
        "import matplotlib.pyplot as plt\n",
        "\n",
        "df =pd.read_csv('ObesityDataSet_raw_and_data_sinthetic.csv') #Se carga el archivo\n",
        "data = pd.DataFrame(df)\n",
        "print(data)"
      ]
    },
    {
      "cell_type": "code",
      "source": [
        "#Realizar una busqueda por dos columnas\n",
        "dataFiltered=data.loc[(data['Gender']==\"Female\")&(data['NObeyesdad']==\"Obesity_Type_I\")]\n",
        "\n",
        "print(dataFiltered)"
      ],
      "metadata": {
        "id": "2p2yNDz-ZZbO",
        "outputId": "d84a7849-9999-4cff-c397-d926c77a820e",
        "colab": {
          "base_uri": "https://localhost:8080/"
        }
      },
      "execution_count": null,
      "outputs": [
        {
          "output_type": "stream",
          "name": "stdout",
          "text": [
            "      Gender        Age    Height     Weight family_history_with_overweight  \\\n",
            "17    Female  29.000000  1.530000  78.000000                             no   \n",
            "21    Female  52.000000  1.690000  87.000000                            yes   \n",
            "23    Female  22.000000  1.600000  82.000000                            yes   \n",
            "78    Female  23.000000  1.650000  90.000000                            yes   \n",
            "104   Female  38.000000  1.560000  80.000000                            yes   \n",
            "...      ...        ...       ...        ...                            ...   \n",
            "1498  Female  18.000000  1.668555  85.607466                            yes   \n",
            "1503  Female  18.024744  1.617192  83.121811                            yes   \n",
            "1504  Female  18.106820  1.602129  82.412665                            yes   \n",
            "1509  Female  19.045357  1.612910  82.193405                            yes   \n",
            "1510  Female  18.945961  1.605469  82.039000                            yes   \n",
            "\n",
            "     FAVC      FCVC       NCP       CAEC SMOKE      CH2O SCC       FAF  \\\n",
            "17    yes  2.000000  1.000000  Sometimes    no  2.000000  no  0.000000   \n",
            "21    yes  3.000000  1.000000  Sometimes   yes  2.000000  no  0.000000   \n",
            "23    yes  1.000000  1.000000  Sometimes    no  2.000000  no  0.000000   \n",
            "78    yes  2.000000  3.000000  Sometimes    no  3.000000  no  0.000000   \n",
            "104   yes  2.000000  3.000000  Sometimes    no  2.000000  no  0.000000   \n",
            "...   ...       ...       ...        ...   ...       ...  ..       ...   \n",
            "1498  yes  2.081238  3.000000  Sometimes    no  1.183630  no  1.171770   \n",
            "1503  yes  2.976509  3.000000  Sometimes    no  1.022705  no  1.025690   \n",
            "1504  yes  2.319648  3.000000  Sometimes    no  1.107164  no  0.692123   \n",
            "1509  yes  1.261288  2.930044  Sometimes    no  1.166655  no  0.133398   \n",
            "1510  yes  2.765330  3.000000  Sometimes    no  1.048584  no  0.192559   \n",
            "\n",
            "           TUE       CALC                 MTRANS      NObeyesdad  \n",
            "17    0.000000         no             Automobile  Obesity_Type_I  \n",
            "21    0.000000         no             Automobile  Obesity_Type_I  \n",
            "23    2.000000  Sometimes  Public_Transportation  Obesity_Type_I  \n",
            "78    1.000000         no  Public_Transportation  Obesity_Type_I  \n",
            "104   0.000000  Sometimes             Automobile  Obesity_Type_I  \n",
            "...        ...        ...                    ...             ...  \n",
            "1498  0.000000         no  Public_Transportation  Obesity_Type_I  \n",
            "1503  0.313016         no  Public_Transportation  Obesity_Type_I  \n",
            "1504  0.304020         no  Public_Transportation  Obesity_Type_I  \n",
            "1509  0.951740         no  Public_Transportation  Obesity_Type_I  \n",
            "1510  0.720411         no  Public_Transportation  Obesity_Type_I  \n",
            "\n",
            "[156 rows x 17 columns]\n"
          ]
        }
      ]
    },
    {
      "cell_type": "code",
      "source": [
        "##Realizar un sort de un grupo de datos y colocar los primeros 10\n",
        "\n",
        "print(data.sort_values(by=['Age'],ascending=True).head(10))"
      ],
      "metadata": {
        "id": "nnU_3pTjZaHW",
        "colab": {
          "base_uri": "https://localhost:8080/"
        },
        "outputId": "66c72678-3e1b-491a-cd7e-eb6a98500bde"
      },
      "execution_count": null,
      "outputs": [
        {
          "output_type": "stream",
          "name": "stdout",
          "text": [
            "     Gender   Age  Height  Weight family_history_with_overweight FAVC  FCVC  \\\n",
            "415    Male  14.0    1.71    72.0                            yes  yes   3.0   \n",
            "116  Female  15.0    1.65    86.0                            yes  yes   3.0   \n",
            "309  Female  16.0    1.66    58.0                             no   no   2.0   \n",
            "295  Female  16.0    1.66    58.0                             no   no   2.0   \n",
            "302    Male  16.0    1.84    45.0                            yes  yes   3.0   \n",
            "312  Female  16.0    1.60    57.0                             no  yes   3.0   \n",
            "389  Female  16.0    1.61    65.0                            yes  yes   1.0   \n",
            "385  Female  16.0    1.55    45.0                             no  yes   2.0   \n",
            "276    Male  16.0    1.67    50.0                            yes  yes   2.0   \n",
            "290    Male  16.0    1.82    71.0                            yes  yes   2.0   \n",
            "\n",
            "     NCP        CAEC SMOKE  CH2O SCC  FAF  TUE       CALC  \\\n",
            "415  3.0   Sometimes    no   3.0  no  2.0  1.0         no   \n",
            "116  3.0   Sometimes    no   1.0  no  3.0  2.0         no   \n",
            "309  1.0   Sometimes    no   1.0  no  0.0  1.0         no   \n",
            "295  1.0   Sometimes    no   1.0  no  0.0  1.0         no   \n",
            "302  3.0      Always    no   3.0  no  3.0  2.0  Sometimes   \n",
            "312  3.0   Sometimes    no   1.0  no  3.0  0.0         no   \n",
            "389  1.0   Sometimes    no   2.0  no  0.0  0.0         no   \n",
            "385  3.0  Frequently    no   2.0  no  1.0  1.0         no   \n",
            "276  1.0  Frequently    no   3.0  no  1.0  0.0         no   \n",
            "290  3.0  Frequently    no   2.0  no  2.0  1.0  Sometimes   \n",
            "\n",
            "                    MTRANS           NObeyesdad  \n",
            "415                Walking        Normal_Weight  \n",
            "116                Walking       Obesity_Type_I  \n",
            "309                Walking        Normal_Weight  \n",
            "295                Walking        Normal_Weight  \n",
            "302                Walking  Insufficient_Weight  \n",
            "312  Public_Transportation        Normal_Weight  \n",
            "389  Public_Transportation   Overweight_Level_I  \n",
            "385  Public_Transportation        Normal_Weight  \n",
            "276  Public_Transportation  Insufficient_Weight  \n",
            "290  Public_Transportation        Normal_Weight  \n"
          ]
        }
      ]
    },
    {
      "cell_type": "code",
      "source": [
        "#Realizar un cálculo de un promedio y explicarlo.\n",
        "dataFilteredMale = data.loc[(data[\"Gender\"]==\"Male\")]\n",
        "meanMale = (dataFilteredMale.Weight).mean()\n",
        "print(meanMale)\n",
        "\n",
        "#Explicación\n",
        "#Para este calculo se filtró el dataFrame inicial de \"data\"\n",
        "#por género masculino. Seguidamente se calcula el promedio de los\n",
        "#pesos al dataFrame filtrado por genero masculino. Con esto se obtiene\n",
        "#que en promedio los hombres tienen un peso de 90.77Kg"
      ],
      "metadata": {
        "id": "LGd6gkUPZalW",
        "colab": {
          "base_uri": "https://localhost:8080/"
        },
        "outputId": "02f6fcb4-d5a8-4ed3-be1b-27524eeb59bb"
      },
      "execution_count": null,
      "outputs": [
        {
          "output_type": "stream",
          "name": "stdout",
          "text": [
            "90.7694783445693\n"
          ]
        }
      ]
    }
  ]
}